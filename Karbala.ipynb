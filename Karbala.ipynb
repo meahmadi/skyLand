{
 "cells": [
  {
   "cell_type": "code",
   "execution_count": 1,
   "metadata": {},
   "outputs": [],
   "source": [
    "# install pyephem using pip"
   ]
  },
  {
   "cell_type": "code",
   "execution_count": 2,
   "metadata": {
    "scrolled": true
   },
   "outputs": [
    {
     "name": "stdout",
     "output_type": "stream",
     "text": [
      "('Vir', 'Virgo')\n"
     ]
    }
   ],
   "source": [
    "import ephem\n",
    "m = ephem.Mars()\n",
    "m.compute('680/10/13')\n",
    "print(ephem.constellation(m))"
   ]
  },
  {
   "cell_type": "code",
   "execution_count": 3,
   "metadata": {},
   "outputs": [
    {
     "name": "stdout",
     "output_type": "stream",
     "text": [
      "<Mars \"Mars\" at 0x0000020698195B38>\n",
      "680/10/13 06:06:37\n",
      "680/10/13 11:09:41\n"
     ]
    }
   ],
   "source": [
    "karbala = ephem.Observer()\n",
    "karbala.lat = 32.6165686\n",
    "karbala.long = 44.0346247\n",
    "karbala.date = '680/10/13 5:0:0'\n",
    "m.compute(karbala)\n",
    "print(m)\n",
    "print(karbala.next_rising(m))\n",
    "print(karbala.next_transit(m))"
   ]
  },
  {
   "cell_type": "code",
   "execution_count": 4,
   "metadata": {},
   "outputs": [
    {
     "name": "stdout",
     "output_type": "stream",
     "text": [
      "('Tau', 'Taurus')\n"
     ]
    }
   ],
   "source": [
    "m.compute('680/4')\n",
    "print(ephem.constellation(m))"
   ]
  },
  {
   "cell_type": "code",
   "execution_count": 10,
   "metadata": {},
   "outputs": [
    {
     "name": "stdout",
     "output_type": "stream",
     "text": [
      "14/10/21 00:00:00 14/10/21 02:58:10\n",
      "46/10/16 00:00:00 46/10/16 03:16:27\n",
      "78/10/11 00:00:00 78/10/11 03:34:24\n",
      "80/9/22 00:00:00 80/9/22 04:52:06\n",
      "108/10/26 00:00:00 108/10/26 02:32:57\n",
      "110/10/6 00:00:00 110/10/6 03:52:01\n",
      "112/9/17 00:00:00 112/9/17 05:09:10\n",
      "114/8/30 00:00:00 114/8/30 06:26:21\n",
      "138/11/11 00:00:00 138/11/11 01:23:58\n",
      "140/10/21 00:00:00 140/10/21 02:51:52\n",
      "142/10/2 00:00:00 142/10/2 04:10:40\n",
      "144/9/12 00:00:00 144/9/12 05:26:02\n",
      "172/10/16 00:00:00 172/10/16 03:10:25\n",
      "238/9/18 00:00:00 238/9/18 05:03:11\n",
      "270/9/13 00:00:00 270/9/13 05:20:01\n",
      "272/8/25 00:00:00 272/8/25 06:37:23\n",
      "302/9/9 00:00:00 302/9/9 05:38:27\n",
      "317/9/16 00:00:00 317/9/16 05:09:22\n",
      "343/11/10 00:00:00 343/11/10 01:25:05\n",
      "345/10/19 00:00:00 345/10/19 02:51:30\n",
      "375/11/4 00:00:00 375/11/4 01:45:55\n",
      "377/10/14 00:00:00 377/10/14 03:09:51\n",
      "381/9/7 00:00:00 381/9/7 05:44:38\n",
      "409/10/10 00:00:00 409/10/10 03:29:08\n",
      "441/10/5 00:00:00 441/10/5 03:46:45\n",
      "471/10/20 00:00:00 471/10/20 02:45:24\n",
      "473/9/30 00:00:00 473/9/30 04:04:04\n",
      "475/9/12 00:00:00 475/9/12 05:20:28\n",
      "501/11/4 00:00:00 501/11/4 01:39:20\n",
      "503/10/15 00:00:00 503/10/15 03:04:03\n",
      "505/9/26 00:00:00 505/9/26 04:22:35\n",
      "507/9/8 00:00:00 507/9/8 05:38:42\n",
      "535/10/11 00:00:00 535/10/11 03:23:18\n",
      "537/9/21 00:00:00 537/9/21 04:39:37\n",
      "552/9/28 00:00:00 552/9/28 04:10:32\n",
      "567/10/6 00:00:00 567/10/6 03:40:57\n",
      "584/9/23 00:00:00 584/9/23 04:27:39\n",
      "601/9/12 00:00:00 601/9/12 05:14:43\n",
      "633/9/7 00:00:00 633/9/7 05:31:42\n",
      "665/9/3 00:00:00 665/9/3 05:49:57\n",
      "708/10/13 00:00:00 708/10/13 03:04:58\n",
      "738/10/29 00:00:00 738/10/29 02:01:27\n",
      "740/10/8 00:00:00 740/10/8 03:23:04\n",
      "770/10/24 00:00:00 770/10/24 02:21:25\n",
      "772/10/3 00:00:00 772/10/3 03:40:45\n",
      "787/10/11 00:00:00 787/10/11 03:10:42\n",
      "804/9/29 00:00:00 804/9/29 03:59:20\n",
      "819/10/7 00:00:00 819/10/7 03:29:48\n",
      "836/9/24 00:00:00 836/9/24 04:16:37\n",
      "838/9/6 00:00:00 838/9/6 05:32:21\n",
      "851/10/2 00:00:00 851/10/2 03:47:18\n",
      "864/10/29 00:00:00 864/10/29 01:55:11\n",
      "866/10/9 00:00:00 866/10/9 03:17:27\n",
      "868/9/20 00:00:00 868/9/20 04:34:53\n",
      "870/9/1 00:00:00 870/9/1 05:49:20\n",
      "896/10/24 00:00:00 896/10/24 02:15:25\n",
      "898/10/4 00:00:00 898/10/4 03:35:11\n",
      "900/9/15 00:00:00 900/9/15 04:51:48\n",
      "902/8/28 00:00:00 902/8/28 06:07:39\n",
      "930/9/30 00:00:00 930/9/30 03:53:58\n",
      "962/9/25 00:00:00 962/9/25 04:11:12\n",
      "996/9/1 00:00:00 996/9/1 05:43:48\n"
     ]
    }
   ],
   "source": [
    "mercury = ephem.Mercury()\n",
    "venus = ephem.Venus()\n",
    "mars = ephem.Mars()\n",
    "\n",
    "sun = ephem.Sun()\n",
    "\n",
    "karbala = ephem.Observer()\n",
    "karbala.lat = 32.6165686\n",
    "karbala.long = 44.0346247\n",
    "karbala.date = '680/10/13 5:0:0'\n",
    "\n",
    "lastMarsCons = '';\n",
    "\n",
    "for y in range(1000):\n",
    "    for m in range(12):\n",
    "        for d in range(30):\n",
    "            \n",
    "            karbala.date = '%d/%d/%d'%((y+1),(m+1),(d+1))\n",
    "\n",
    "            mars.compute(karbala)\n",
    "            c3 = ephem.constellation(mars)\n",
    "            #First Day Of Mars Enterance in Virgo\n",
    "            if c3[0] == 'Vir' and lastMarsCons != 'Vir':\n",
    "                          \n",
    "                mercury.compute(karbala)\n",
    "                c1 = ephem.constellation(mercury)\n",
    "\n",
    "                venus.compute(karbala)\n",
    "                c2 = ephem.constellation(venus)\n",
    "\n",
    "                if c1[0]==c2[0] and c2[0]=='Vir' :\n",
    "                    print(karbala.date,karbala.next_rising(mars))\n",
    "            lastMarsCons = c3[0]"
   ]
  },
  {
   "cell_type": "code",
   "execution_count": null,
   "metadata": {},
   "outputs": [],
   "source": []
  }
 ],
 "metadata": {
  "kernelspec": {
   "display_name": "Python 3",
   "language": "python",
   "name": "python3"
  },
  "language_info": {
   "codemirror_mode": {
    "name": "ipython",
    "version": 3
   },
   "file_extension": ".py",
   "mimetype": "text/x-python",
   "name": "python",
   "nbconvert_exporter": "python",
   "pygments_lexer": "ipython3",
   "version": "3.7.4"
  }
 },
 "nbformat": 4,
 "nbformat_minor": 4
}
