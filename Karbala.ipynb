{
 "cells": [
  {
   "cell_type": "code",
   "execution_count": null,
   "metadata": {},
   "outputs": [],
   "source": [
    "# install pyephem using pip"
   ]
  },
  {
   "cell_type": "code",
   "execution_count": 5,
   "metadata": {
    "scrolled": true
   },
   "outputs": [
    {
     "name": "stdout",
     "output_type": "stream",
     "text": [
      "('Vir', 'Virgo')\n"
     ]
    }
   ],
   "source": [
    "import ephem\n",
    "m = ephem.Mars()\n",
    "m.compute('680/10/13')\n",
    "print(ephem.constellation(m))"
   ]
  },
  {
   "cell_type": "code",
   "execution_count": 6,
   "metadata": {},
   "outputs": [
    {
     "name": "stdout",
     "output_type": "stream",
     "text": [
      "<Mars \"Mars\" at 0x00000242D1F31368>\n",
      "680/10/13 06:06:37\n",
      "680/10/13 11:09:41\n"
     ]
    }
   ],
   "source": [
    "karbala = ephem.Observer()\n",
    "karbala.lat = 32.6165686\n",
    "karbala.long = 44.0346247\n",
    "karbala.date = '680/10/13 5:0:0'\n",
    "m.compute(karbala)\n",
    "print(m)\n",
    "print(karbala.next_rising(m))\n",
    "print(karbala.next_transit(m))"
   ]
  },
  {
   "cell_type": "code",
   "execution_count": 12,
   "metadata": {},
   "outputs": [
    {
     "name": "stdout",
     "output_type": "stream",
     "text": [
      "('Tau', 'Taurus')\n"
     ]
    }
   ],
   "source": [
    "m.compute('680/4')\n",
    "print(ephem.constellation(m))"
   ]
  },
  {
   "cell_type": "code",
   "execution_count": 18,
   "metadata": {},
   "outputs": [
    {
     "name": "stdout",
     "output_type": "stream",
     "text": [
      "1/10/20 00:00:00\n",
      "1/10/30 00:00:00\n",
      "1/11/10 00:00:00\n",
      "3/10/10 00:00:00\n",
      "5/9/20 00:00:00\n",
      "14/10/30 00:00:00\n",
      "18/9/20 00:00:00\n",
      "33/10/10 00:00:00\n",
      "33/10/20 00:00:00\n",
      "33/10/30 00:00:00\n",
      "33/11/10 00:00:00\n",
      "35/10/10 00:00:00\n",
      "46/10/20 00:00:00\n",
      "50/9/30 00:00:00\n",
      "50/10/10 00:00:00\n",
      "50/10/20 00:00:00\n",
      "54/9/30 00:00:00\n",
      "65/10/10 00:00:00\n",
      "65/11/10 00:00:00\n",
      "67/9/10 00:00:00\n",
      "67/9/20 00:00:00\n",
      "67/9/30 00:00:00\n",
      "67/10/10 00:00:00\n",
      "82/10/10 00:00:00\n",
      "82/10/20 00:00:00\n",
      "88/8/30 00:00:00\n",
      "97/10/10 00:00:00\n",
      "99/9/10 00:00:00\n",
      "99/9/20 00:00:00\n",
      "99/9/30 00:00:00\n",
      "99/10/10 00:00:00\n"
     ]
    }
   ],
   "source": [
    "mercury = ephem.Mercury()\n",
    "venus = ephem.Venus()\n",
    "mars = ephem.Mars()\n",
    "\n",
    "karbala = ephem.Observer()\n",
    "karbala.lat = 32.6165686\n",
    "karbala.long = 44.0346247\n",
    "karbala.date = '680/10/13 5:0:0'\n",
    "\n",
    "for y in range(100):\n",
    "    for m in range(12):\n",
    "        for d in range(3):\n",
    "            karbala.date = '%d/%d/%d'%((y+1),(m+1),(d+1)*10)\n",
    "\n",
    "            mercury.compute(karbala)\n",
    "            c1 = ephem.constellation(mercury)\n",
    "\n",
    "            venus.compute(karbala)\n",
    "            c2 = ephem.constellation(venus)\n",
    "\n",
    "            mars.compute(karbala)\n",
    "            c3 = ephem.constellation(mars)\n",
    "\n",
    "            if c1[0]==c2[0] and c2[0]==c3[0] and c1[0]=='Vir' :\n",
    "                print(karbala.date)"
   ]
  },
  {
   "cell_type": "code",
   "execution_count": null,
   "metadata": {},
   "outputs": [],
   "source": []
  }
 ],
 "metadata": {
  "kernelspec": {
   "display_name": "Python 3",
   "language": "python",
   "name": "python3"
  },
  "language_info": {
   "codemirror_mode": {
    "name": "ipython",
    "version": 3
   },
   "file_extension": ".py",
   "mimetype": "text/x-python",
   "name": "python",
   "nbconvert_exporter": "python",
   "pygments_lexer": "ipython3",
   "version": "3.7.4"
  }
 },
 "nbformat": 4,
 "nbformat_minor": 4
}
